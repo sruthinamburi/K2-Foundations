{
 "cells": [
  {
   "cell_type": "code",
   "execution_count": null,
   "metadata": {
    "collapsed": true
   },
   "outputs": [],
   "source": [
    "VOWELS = ('a', 'e', 'i', 'o', 'u')"
   ]
  },
  {
   "cell_type": "code",
   "execution_count": 19,
   "metadata": {
    "collapsed": true
   },
   "outputs": [],
   "source": [
    "def convert_word(word):\n",
    "    first_letter = word[0]\n",
    "    if first_letter in VOWELS:  \n",
    "        return word + \"way\"     \n",
    "    else:\n",
    "        return word[1:] + word[0] + \"ay\"   "
   ]
  },
  {
   "cell_type": "code",
   "execution_count": 20,
   "metadata": {
    "collapsed": true
   },
   "outputs": [],
   "source": [
    "def convert_sentence(sentence):\n",
    "    list_of_words = sentence.split(' ')\n",
    "    new_sentence = \"\"   \n",
    "    for word in list_of_words:\n",
    "        new_sentence = new_sentence + convert_word(word)    \n",
    "        new_sentence = new_sentence + \" \"   \n",
    "    return new_sentence"
   ]
  },
  {
   "cell_type": "code",
   "execution_count": 21,
   "metadata": {
    "collapsed": false
   },
   "outputs": [
    {
     "name": "stdout",
     "output_type": "stream",
     "text": [
      "buy more eggs\n",
      "uybay oremay eggsway \n"
     ]
    }
   ],
   "source": [
    "text = input() \n",
    "print (convert_sentence(text))"
   ]
  },
  {
   "cell_type": "code",
   "execution_count": null,
   "metadata": {
    "collapsed": true
   },
   "outputs": [],
   "source": []
  }
 ],
 "metadata": {
  "kernelspec": {
   "display_name": "Python 3",
   "language": "python",
   "name": "python3"
  },
  "language_info": {
   "codemirror_mode": {
    "name": "ipython",
    "version": 3
   },
   "file_extension": ".py",
   "mimetype": "text/x-python",
   "name": "python",
   "nbconvert_exporter": "python",
   "pygments_lexer": "ipython3",
   "version": "3.6.0"
  }
 },
 "nbformat": 4,
 "nbformat_minor": 2
}
